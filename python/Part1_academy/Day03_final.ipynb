{
 "cells": [
  {
   "cell_type": "code",
   "execution_count": 8,
   "id": "589ed66c",
   "metadata": {},
   "outputs": [],
   "source": [
    "class SoccerPlayer:\n",
    "    def __init__(self, name, position, back_number):\n",
    "        self.name = name\n",
    "        self.position = position\n",
    "        self.back_number = back_number\n",
    "        \n",
    "    \n",
    "    def change_back_number(self, back_number):\n",
    "        print(\"선수 등번호 변경:From %d to %d\" % \\\n",
    "              (self.back_number, back_number))\n",
    "        self.back_number = back_number\n",
    "        \n",
    "        \n",
    "    def __str__(self):\n",
    "        return f\"Hello, My name is {self.name}. I play in \\\n",
    "{self.position} in center.\""
   ]
  },
  {
   "cell_type": "code",
   "execution_count": 9,
   "id": "ca013b5d",
   "metadata": {},
   "outputs": [],
   "source": [
    "chaboom = SoccerPlayer(\"Chaboom\", \"CF\", 11)"
   ]
  },
  {
   "cell_type": "code",
   "execution_count": 10,
   "id": "0612a36b",
   "metadata": {},
   "outputs": [
    {
     "name": "stdout",
     "output_type": "stream",
     "text": [
      "현재 선수의 등번호: 11\n"
     ]
    }
   ],
   "source": [
    "print('현재 선수의 등번호:', chaboom.back_number)"
   ]
  },
  {
   "cell_type": "code",
   "execution_count": 11,
   "id": "34172001",
   "metadata": {},
   "outputs": [
    {
     "name": "stdout",
     "output_type": "stream",
     "text": [
      "선수 등번호 변경:From 11 to 9\n"
     ]
    }
   ],
   "source": [
    "chaboom.change_back_number(9)"
   ]
  },
  {
   "cell_type": "code",
   "execution_count": 12,
   "id": "d8bb77c2",
   "metadata": {},
   "outputs": [
    {
     "name": "stdout",
     "output_type": "stream",
     "text": [
      "현재 선수의 등번호: 9\n"
     ]
    }
   ],
   "source": [
    "print('현재 선수의 등번호:', chaboom.back_number)"
   ]
  },
  {
   "cell_type": "code",
   "execution_count": 13,
   "id": "dd153138",
   "metadata": {},
   "outputs": [
    {
     "name": "stdout",
     "output_type": "stream",
     "text": [
      "Hello, My name is Chaboom. I play in CF in center.\n"
     ]
    }
   ],
   "source": [
    "print(chaboom)"
   ]
  },
  {
   "cell_type": "code",
   "execution_count": 14,
   "id": "2e58c300",
   "metadata": {},
   "outputs": [],
   "source": [
    "class Car:\n",
    "    instance_count = 0\n",
    "    \n",
    "    def __init__(self, size, color):\n",
    "        self.size = size\n",
    "        self.color = color\n",
    "        Car.instance_count += 1\n",
    "        print(f\"자동차 객체의 수: {Car.instance_count}\")\n",
    "        \n",
    "    def move(self):\n",
    "        print(f\"자동차({self.size} & {self.color})가 움직입니다.\")"
   ]
  },
  {
   "cell_type": "code",
   "execution_count": 15,
   "id": "2775a069",
   "metadata": {},
   "outputs": [
    {
     "name": "stdout",
     "output_type": "stream",
     "text": [
      "자동차 객체의 수: 1\n",
      "자동차 객체의 수: 2\n"
     ]
    }
   ],
   "source": [
    "car1 = Car(\"small\", \"white\")\n",
    "car2 = Car(\"big\", \"black\")"
   ]
  },
  {
   "cell_type": "code",
   "execution_count": 16,
   "id": "3573bd5d",
   "metadata": {},
   "outputs": [
    {
     "name": "stdout",
     "output_type": "stream",
     "text": [
      "Car 클래스의 총 인스턴스 수: 2\n"
     ]
    }
   ],
   "source": [
    "print(f\"Car 클래스의 총 인스턴스 수: {Car.instance_count}\")"
   ]
  },
  {
   "cell_type": "code",
   "execution_count": 17,
   "id": "b0e02aba",
   "metadata": {},
   "outputs": [
    {
     "name": "stdout",
     "output_type": "stream",
     "text": [
      "자동차(small & white)가 움직입니다.\n",
      "자동차(big & black)가 움직입니다.\n"
     ]
    }
   ],
   "source": [
    "car1.move()\n",
    "car2.move()"
   ]
  },
  {
   "cell_type": "code",
   "execution_count": 25,
   "id": "4c04af7e",
   "metadata": {},
   "outputs": [],
   "source": [
    "class Car:\n",
    "    instance_count = 0\n",
    "    \n",
    "    def __init__(self, size, color):\n",
    "        self.size = size\n",
    "        self.color = color\n",
    "        self.speed = 0\n",
    "        Car.instance_count += 1\n",
    "        print(f\"자동차 객체의 수: {Car.instance_count}\")\n",
    "        \n",
    "    def move(self, speed):\n",
    "        self.speed = speed\n",
    "        print(f\"자동차({self.size} & {self.color})가\", end='')\n",
    "        print(f\"시속 {self.speed}킬로미터로 전진\")\n",
    "        \n",
    "    def auto_cruise(self):\n",
    "        print(\"자율 주행 모드\")\n",
    "        self.move(self.speed)\n",
    "        \n",
    "    @staticmethod\n",
    "    def check_type(model_code):\n",
    "        if model_code >= 20:\n",
    "            print(\"이 자동차는 전기차입니다.\")\n",
    "        elif 10 <= model_code < 20:\n",
    "            print(\"이 자동차는 가솔린차입니다.\")\n",
    "        else:\n",
    "            print(\"이 자동차는 디젤차입니다.\")"
   ]
  },
  {
   "cell_type": "code",
   "execution_count": 23,
   "id": "10e4a8cf",
   "metadata": {},
   "outputs": [
    {
     "name": "stdout",
     "output_type": "stream",
     "text": [
      "자동차 객체의 수: 1\n",
      "자동차(small & red)가시속 80킬로미터로 전진\n",
      "자율 주행 모드\n",
      "자동차(small & red)가시속 80킬로미터로 전진\n"
     ]
    }
   ],
   "source": [
    "car = Car(\"small\", \"red\")\n",
    "car.move(80)\n",
    "car.auto_cruise()"
   ]
  },
  {
   "cell_type": "code",
   "execution_count": 26,
   "id": "1b8b10de",
   "metadata": {},
   "outputs": [
    {
     "name": "stdout",
     "output_type": "stream",
     "text": [
      "이 자동차는 전기차입니다.\n"
     ]
    }
   ],
   "source": [
    "Car.check_type(25)"
   ]
  },
  {
   "cell_type": "code",
   "execution_count": 27,
   "id": "c36cf57a",
   "metadata": {},
   "outputs": [],
   "source": [
    "class Bicycle:\n",
    "    def __init__(self, wheel_size, color):\n",
    "        self.wheel_size = wheel_size\n",
    "        self.color = color\n",
    "        \n",
    "    def move(self, speed):\n",
    "        print(f\"자전거 시속 {speed} 킬로미터로 전진\")\n",
    "        \n",
    "    def turn(self, direction):\n",
    "        print(f\"자전거: {direction} 회전\")\n",
    "        \n",
    "    def stop(self):\n",
    "        print(f\"자전거({self.wheel_size}, {self.color}): 정지\")"
   ]
  },
  {
   "cell_type": "code",
   "execution_count": 28,
   "id": "a691e111",
   "metadata": {},
   "outputs": [],
   "source": [
    "class FoldingBicycle(Bicycle):\n",
    "    def __init__(self, wheel_size, color, state):\n",
    "        super().__init__(wheel_size, color)\n",
    "        self.state = state\n",
    "        \n",
    "    def fold(self):\n",
    "        self.state = \"folding\"\n",
    "        print(f\"자전거: 접기, state = {self.state}\")\n",
    "        \n",
    "    def unfold(self):\n",
    "        self.state = \"unfolding\"\n",
    "        print(f\"자전거: 펴기, state = {self.state}\")"
   ]
  },
  {
   "cell_type": "code",
   "execution_count": 29,
   "id": "93d892a4",
   "metadata": {},
   "outputs": [
    {
     "name": "stdout",
     "output_type": "stream",
     "text": [
      "자전거 시속 20 킬로미터로 전진\n",
      "자전거: right 회전\n",
      "자전거(27, white): 정지\n",
      "자전거: 접기, state = folding\n",
      "자전거: 펴기, state = unfolding\n"
     ]
    }
   ],
   "source": [
    "folding_bicycle = FoldingBicycle(27, 'white', 'unfolding')\n",
    "folding_bicycle.move(20)\n",
    "folding_bicycle.turn('right')\n",
    "folding_bicycle.stop()\n",
    "folding_bicycle.fold()\n",
    "folding_bicycle.unfold()"
   ]
  },
  {
   "cell_type": "markdown",
   "id": "9eb79c19",
   "metadata": {},
   "source": [
    "# 메소드 오버라이딩\n",
    "\n",
    "-부모 클래서 상속받은 문법을 고쳐서 쓰는 것 (리뉴얼)"
   ]
  },
  {
   "cell_type": "code",
   "execution_count": 30,
   "id": "026d30d7",
   "metadata": {},
   "outputs": [],
   "source": [
    "class Person:\n",
    "    def __init__(self, name, age, gender):\n",
    "        self.name = name\n",
    "        self.age = age\n",
    "        self.gender = gender\n",
    "        \n",
    "    def about_me(self):\n",
    "        print(\"제 이름은\", self.name, end='')\n",
    "        print(f\" ({self.gender}) 이고요, 제 나이는\", str(self.age),\\\n",
    "              \"살 입니다\")"
   ]
  },
  {
   "cell_type": "code",
   "execution_count": 31,
   "id": "67baea32",
   "metadata": {},
   "outputs": [],
   "source": [
    "class Employee(Person):\n",
    "    def __init__(self, name, age, gender, salary, hire_date):\n",
    "        super().__init__(name, age, gender)\n",
    "        self.salary = salary\n",
    "        self.hire_date = hire_date\n",
    "        \n",
    "    def do_work(self):\n",
    "        print(\"열심히 일을 한다.\")\n",
    "        \n",
    "    def about_me(self):\n",
    "        super().about_me()\n",
    "        print(\"제 급여는\", self.salary, \"원 이고, 제 입사일은\", \\\n",
    "             self.hire_date, \"입니다.\")"
   ]
  },
  {
   "cell_type": "code",
   "execution_count": 32,
   "id": "a3296e58",
   "metadata": {},
   "outputs": [
    {
     "name": "stdout",
     "output_type": "stream",
     "text": [
      "열심히 일을 한다.\n",
      "제 이름은 Tom (남성) 이고요, 제 나이는 25 살 입니다\n",
      "제 급여는 350 원 이고, 제 입사일은 2021/08/20 입니다.\n"
     ]
    }
   ],
   "source": [
    "emp = Employee('Tom', 25, '남성', 350, '2021/08/20')\n",
    "emp.do_work()\n",
    "emp.about_me()"
   ]
  },
  {
   "cell_type": "code",
   "execution_count": 33,
   "id": "bf617f28",
   "metadata": {},
   "outputs": [],
   "source": [
    "class Product:\n",
    "    pass"
   ]
  },
  {
   "cell_type": "code",
   "execution_count": 34,
   "id": "e3efd48a",
   "metadata": {},
   "outputs": [],
   "source": [
    "class Inventory:\n",
    "    def __init__(self):\n",
    "        self.__items = []\n",
    "        \n",
    "    def add_new_item(self, product):\n",
    "        if type(product) == Product:\n",
    "            self.__items.append(product)\n",
    "            print(\"new item added\")\n",
    "        else:\n",
    "            raise ValueError(\"Invalid item\")\n",
    "            \n",
    "    def get_number_of_items(self):\n",
    "        return len(self.__items)"
   ]
  },
  {
   "cell_type": "code",
   "execution_count": 35,
   "id": "45cfdd4f",
   "metadata": {},
   "outputs": [
    {
     "name": "stdout",
     "output_type": "stream",
     "text": [
      "new item added\n",
      "new item added\n"
     ]
    }
   ],
   "source": [
    "my_inventory = Inventory()\n",
    "my_inventory.add_new_item(Product())\n",
    "my_inventory.add_new_item(Product())"
   ]
  },
  {
   "cell_type": "code",
   "execution_count": 1,
   "id": "3af446fa",
   "metadata": {},
   "outputs": [
    {
     "ename": "NameError",
     "evalue": "name 'my_inventory' is not defined",
     "output_type": "error",
     "traceback": [
      "\u001b[0;31m---------------------------------------------------------------------------\u001b[0m",
      "\u001b[0;31mNameError\u001b[0m                                 Traceback (most recent call last)",
      "\u001b[0;32m<ipython-input-1-d14883466fbe>\u001b[0m in \u001b[0;36m<module>\u001b[0;34m\u001b[0m\n\u001b[0;32m----> 1\u001b[0;31m \u001b[0mprint\u001b[0m\u001b[0;34m(\u001b[0m\u001b[0mmy_inventory\u001b[0m\u001b[0;34m.\u001b[0m\u001b[0m__items\u001b[0m\u001b[0;34m)\u001b[0m\u001b[0;34m\u001b[0m\u001b[0;34m\u001b[0m\u001b[0m\n\u001b[0m",
      "\u001b[0;31mNameError\u001b[0m: name 'my_inventory' is not defined"
     ]
    }
   ],
   "source": [
    "print(my_inventory.__items)"
   ]
  },
  {
   "cell_type": "code",
   "execution_count": 38,
   "id": "5b04d1fd",
   "metadata": {},
   "outputs": [],
   "source": [
    "class Inventory:\n",
    "    def __init__(self):\n",
    "        self.__items = []\n",
    "        \n",
    "    def add_new_item(self, product):\n",
    "        if type(product) == Product:\n",
    "            self.__items.append(product)\n",
    "            print(\"new item added\")\n",
    "        else:\n",
    "            raise ValueError(\"Invalid item\")\n",
    "            \n",
    "    def get_number_of_items(self):\n",
    "        return len(self.__items)\n",
    "    \n",
    "    @property\n",
    "    def items(self):\n",
    "        return self.__items"
   ]
  },
  {
   "cell_type": "code",
   "execution_count": 39,
   "id": "56392c3d",
   "metadata": {},
   "outputs": [],
   "source": [
    "inventory = Inventory()"
   ]
  },
  {
   "cell_type": "code",
   "execution_count": 40,
   "id": "9e983c5c",
   "metadata": {},
   "outputs": [],
   "source": [
    "items = inventory.items\n",
    "items.append(Product())"
   ]
  },
  {
   "cell_type": "markdown",
   "id": "d25a841e",
   "metadata": {},
   "source": [
    "# 모듈이란 \n",
    "\n",
    "- 파이썬 코드가 들어있는 것\n",
    "- 환경설정\n",
    "- 주피터노트북 파일이 있는 곳에 생성하여 사용 할 수 있다. \n",
    "- 실습: \n",
    "    - 파일 만들기(텍스문서 -> .py로 확장자명 변경\n",
    "    - 파일명: fah_converter.py\n",
    "    - 내용 : def convert_to_f(celsius_value): return celsius_value*9.0/5 +32"
   ]
  },
  {
   "cell_type": "code",
   "execution_count": 41,
   "id": "df8c2f50",
   "metadata": {},
   "outputs": [],
   "source": [
    "import fah_converter"
   ]
  },
  {
   "cell_type": "code",
   "execution_count": 42,
   "id": "4d5f8d50",
   "metadata": {},
   "outputs": [
    {
     "name": "stdout",
     "output_type": "stream",
     "text": [
      "Enter a celsius value:32\n",
      "It's 89.6 degrees Fahrenheit\n"
     ]
    }
   ],
   "source": [
    "celsius = float(input(\"Enter a celsius value:\"))\n",
    "fahrenheit = fah_converter.convert_to_f(celsius)\n",
    "print(\"It's\", fahrenheit, \"degrees Fahrenheit\")"
   ]
  },
  {
   "cell_type": "code",
   "execution_count": 43,
   "id": "c35fbf39",
   "metadata": {},
   "outputs": [],
   "source": [
    "import fah_converter as fah"
   ]
  },
  {
   "cell_type": "code",
   "execution_count": 44,
   "id": "7b7f8553",
   "metadata": {},
   "outputs": [
    {
     "name": "stdout",
     "output_type": "stream",
     "text": [
      "80.6\n"
     ]
    }
   ],
   "source": [
    "print(fah.convert_to_f(27))"
   ]
  },
  {
   "cell_type": "code",
   "execution_count": 45,
   "id": "514df46f",
   "metadata": {},
   "outputs": [],
   "source": [
    "from fah_converter import convert_to_f"
   ]
  },
  {
   "cell_type": "code",
   "execution_count": 46,
   "id": "c4868a0c",
   "metadata": {},
   "outputs": [
    {
     "name": "stdout",
     "output_type": "stream",
     "text": [
      "80.6\n"
     ]
    }
   ],
   "source": [
    "print(convert_to_f(27))"
   ]
  },
  {
   "cell_type": "code",
   "execution_count": 47,
   "id": "b1ea502c",
   "metadata": {},
   "outputs": [],
   "source": [
    "from fah_converter import *"
   ]
  },
  {
   "cell_type": "code",
   "execution_count": 48,
   "id": "a6f1dd4c",
   "metadata": {},
   "outputs": [
    {
     "name": "stdout",
     "output_type": "stream",
     "text": [
      "80.6\n"
     ]
    }
   ],
   "source": [
    "print(convert_to_f(27))"
   ]
  },
  {
   "cell_type": "code",
   "execution_count": 1,
   "id": "d4700266",
   "metadata": {},
   "outputs": [
    {
     "name": "stdout",
     "output_type": "stream",
     "text": [
      "113.0\n"
     ]
    }
   ],
   "source": [
    "from fah_converter import convert_to_f"
   ]
  },
  {
   "cell_type": "code",
   "execution_count": 50,
   "id": "4537092f",
   "metadata": {},
   "outputs": [
    {
     "name": "stdout",
     "output_type": "stream",
     "text": [
      "80.6\n"
     ]
    }
   ],
   "source": [
    "print(convert_to_f(27))"
   ]
  },
  {
   "cell_type": "code",
   "execution_count": 1,
   "id": "8e18f92d",
   "metadata": {},
   "outputs": [],
   "source": [
    "import fah_converter as fah"
   ]
  },
  {
   "cell_type": "code",
   "execution_count": 2,
   "id": "61e1a1aa",
   "metadata": {},
   "outputs": [
    {
     "name": "stdout",
     "output_type": "stream",
     "text": [
      "80.6\n"
     ]
    }
   ],
   "source": [
    "print(fah.convert_to_f(27))"
   ]
  },
  {
   "cell_type": "markdown",
   "id": "2a43b262",
   "metadata": {},
   "source": [
    "# 패키지\n",
    "    - 모듈의 묶음"
   ]
  },
  {
   "cell_type": "markdown",
   "id": "6691ddb9",
   "metadata": {},
   "source": [
    "예제\n",
    "-인터넷에서 주식 정보를 가져와 데이터베이스에 저장, 필요한 정보를 계산\\\n",
    "-패키지명 : roboadvospr\\\n",
    "    \n",
    "    -crawling: 주식 관련 데이터를 인터넷에서 가져옴\n",
    "    -database : 가져온 데이터를 데이터베이스에 저장\n",
    "    -analysis: 해당 정보를 분석, 의미있는 가치 추출\n",
    "\n",
    "my_package -- roboadvisor -- analysis\n",
    "                            -- crawling\n",
    "                            --database\n",
    "    "
   ]
  },
  {
   "cell_type": "code",
   "execution_count": 3,
   "id": "c9d313a3",
   "metadata": {},
   "outputs": [],
   "source": [
    "import sys"
   ]
  },
  {
   "cell_type": "code",
   "execution_count": 4,
   "id": "7eeff8b4",
   "metadata": {},
   "outputs": [
    {
     "name": "stdout",
     "output_type": "stream",
     "text": [
      "['G:\\\\lec\\\\source\\\\python', 'C:\\\\Users\\\\BIT\\\\anaconda3\\\\envs\\\\python-env\\\\python38.zip', 'C:\\\\Users\\\\BIT\\\\anaconda3\\\\envs\\\\python-env\\\\DLLs', 'C:\\\\Users\\\\BIT\\\\anaconda3\\\\envs\\\\python-env\\\\lib', 'C:\\\\Users\\\\BIT\\\\anaconda3\\\\envs\\\\python-env', '', 'C:\\\\Users\\\\BIT\\\\anaconda3\\\\envs\\\\python-env\\\\lib\\\\site-packages', 'C:\\\\Users\\\\BIT\\\\anaconda3\\\\envs\\\\python-env\\\\lib\\\\site-packages\\\\win32', 'C:\\\\Users\\\\BIT\\\\anaconda3\\\\envs\\\\python-env\\\\lib\\\\site-packages\\\\win32\\\\lib', 'C:\\\\Users\\\\BIT\\\\anaconda3\\\\envs\\\\python-env\\\\lib\\\\site-packages\\\\Pythonwin', 'C:\\\\Users\\\\BIT\\\\anaconda3\\\\envs\\\\python-env\\\\lib\\\\site-packages\\\\IPython\\\\extensions', 'C:\\\\Users\\\\BIT\\\\.ipython']\n"
     ]
    }
   ],
   "source": [
    "print(sys.path)"
   ]
  },
  {
   "cell_type": "code",
   "execution_count": 5,
   "id": "1af6c414",
   "metadata": {},
   "outputs": [],
   "source": [
    "sys.path.append(\"G:\\\\Lec\\\\source\\\\python\\\\my_package\")"
   ]
  },
  {
   "cell_type": "code",
   "execution_count": 6,
   "id": "e6f0affc",
   "metadata": {},
   "outputs": [
    {
     "name": "stdout",
     "output_type": "stream",
     "text": [
      "['G:\\\\lec\\\\source\\\\python', 'C:\\\\Users\\\\BIT\\\\anaconda3\\\\envs\\\\python-env\\\\python38.zip', 'C:\\\\Users\\\\BIT\\\\anaconda3\\\\envs\\\\python-env\\\\DLLs', 'C:\\\\Users\\\\BIT\\\\anaconda3\\\\envs\\\\python-env\\\\lib', 'C:\\\\Users\\\\BIT\\\\anaconda3\\\\envs\\\\python-env', '', 'C:\\\\Users\\\\BIT\\\\anaconda3\\\\envs\\\\python-env\\\\lib\\\\site-packages', 'C:\\\\Users\\\\BIT\\\\anaconda3\\\\envs\\\\python-env\\\\lib\\\\site-packages\\\\win32', 'C:\\\\Users\\\\BIT\\\\anaconda3\\\\envs\\\\python-env\\\\lib\\\\site-packages\\\\win32\\\\lib', 'C:\\\\Users\\\\BIT\\\\anaconda3\\\\envs\\\\python-env\\\\lib\\\\site-packages\\\\Pythonwin', 'C:\\\\Users\\\\BIT\\\\anaconda3\\\\envs\\\\python-env\\\\lib\\\\site-packages\\\\IPython\\\\extensions', 'C:\\\\Users\\\\BIT\\\\.ipython', 'G:\\\\Lec\\\\source\\\\python\\\\my_package']\n"
     ]
    }
   ],
   "source": [
    "print(sys.path)"
   ]
  },
  {
   "cell_type": "code",
   "execution_count": 7,
   "id": "d58e0b05",
   "metadata": {},
   "outputs": [
    {
     "name": "stdout",
     "output_type": "stream",
     "text": [
      "series\n"
     ]
    }
   ],
   "source": [
    "import roboadvisor.analysis.series\n",
    "roboadvisor.analysis.series.series_test()"
   ]
  },
  {
   "cell_type": "code",
   "execution_count": 8,
   "id": "819d0216",
   "metadata": {},
   "outputs": [
    {
     "name": "stdout",
     "output_type": "stream",
     "text": [
      "series\n"
     ]
    }
   ],
   "source": [
    "from roboadvisor.analysis import series\n",
    "series.series_test()"
   ]
  },
  {
   "cell_type": "code",
   "execution_count": 9,
   "id": "1de5bf4b",
   "metadata": {},
   "outputs": [
    {
     "name": "stdout",
     "output_type": "stream",
     "text": [
      "series\n"
     ]
    }
   ],
   "source": [
    "from roboadvisor.analysis.series import series_test\n",
    "series_test()"
   ]
  },
  {
   "cell_type": "code",
   "execution_count": 1,
   "id": "72c37618",
   "metadata": {},
   "outputs": [
    {
     "ename": "ModuleNotFoundError",
     "evalue": "No module named 'roboadvisor'",
     "output_type": "error",
     "traceback": [
      "\u001b[1;31m---------------------------------------------------------------------------\u001b[0m",
      "\u001b[1;31mModuleNotFoundError\u001b[0m                       Traceback (most recent call last)",
      "\u001b[1;32m<ipython-input-1-873347f032ba>\u001b[0m in \u001b[0;36m<module>\u001b[1;34m\u001b[0m\n\u001b[1;32m----> 1\u001b[1;33m \u001b[1;32mimport\u001b[0m \u001b[0mroboadvisor\u001b[0m\u001b[1;33m\u001b[0m\u001b[1;33m\u001b[0m\u001b[0m\n\u001b[0m\u001b[0;32m      2\u001b[0m \u001b[0mroboadvisor\u001b[0m\u001b[1;33m.\u001b[0m\u001b[0manalysis\u001b[0m\u001b[1;33m.\u001b[0m\u001b[0mseries\u001b[0m\u001b[1;33m.\u001b[0m\u001b[0mseries_test\u001b[0m\u001b[1;33m(\u001b[0m\u001b[1;33m)\u001b[0m\u001b[1;33m\u001b[0m\u001b[1;33m\u001b[0m\u001b[0m\n",
      "\u001b[1;31mModuleNotFoundError\u001b[0m: No module named 'roboadvisor'"
     ]
    }
   ],
   "source": [
    "import roboadvisor\n",
    "roboadvisor.analysis.series.series_test()"
   ]
  },
  {
   "cell_type": "code",
   "execution_count": 2,
   "id": "d207516f",
   "metadata": {},
   "outputs": [
    {
     "ename": "ModuleNotFoundError",
     "evalue": "No module named 'roboadvisor.analysis.series.series_test'; 'roboadvisor.analysis.series' is not a package",
     "output_type": "error",
     "traceback": [
      "\u001b[1;31m---------------------------------------------------------------------------\u001b[0m",
      "\u001b[1;31mModuleNotFoundError\u001b[0m                       Traceback (most recent call last)",
      "\u001b[1;32m<ipython-input-2-d86ca7a27153>\u001b[0m in \u001b[0;36m<module>\u001b[1;34m\u001b[0m\n\u001b[0;32m      1\u001b[0m \u001b[1;32mimport\u001b[0m \u001b[0msys\u001b[0m\u001b[1;33m\u001b[0m\u001b[1;33m\u001b[0m\u001b[0m\n\u001b[0;32m      2\u001b[0m \u001b[0msys\u001b[0m\u001b[1;33m.\u001b[0m\u001b[0mpath\u001b[0m\u001b[1;33m.\u001b[0m\u001b[0mappend\u001b[0m\u001b[1;33m(\u001b[0m\u001b[1;34m\"G:\\\\Lec\\\\source\\\\python\\\\my_package\"\u001b[0m\u001b[1;33m)\u001b[0m\u001b[1;33m\u001b[0m\u001b[1;33m\u001b[0m\u001b[0m\n\u001b[1;32m----> 3\u001b[1;33m \u001b[1;32mimport\u001b[0m \u001b[0mroboadvisor\u001b[0m\u001b[1;33m.\u001b[0m\u001b[0manalysis\u001b[0m\u001b[1;33m.\u001b[0m\u001b[0mseries\u001b[0m\u001b[1;33m.\u001b[0m\u001b[0mseries_test\u001b[0m\u001b[1;33m\u001b[0m\u001b[1;33m\u001b[0m\u001b[0m\n\u001b[0m\u001b[0;32m      4\u001b[0m \u001b[0mseries_test\u001b[0m\u001b[1;33m(\u001b[0m\u001b[1;33m)\u001b[0m\u001b[1;33m\u001b[0m\u001b[1;33m\u001b[0m\u001b[0m\n",
      "\u001b[1;31mModuleNotFoundError\u001b[0m: No module named 'roboadvisor.analysis.series.series_test'; 'roboadvisor.analysis.series' is not a package"
     ]
    }
   ],
   "source": [
    "import sys\n",
    "sys.path.append(\"G:\\\\Lec\\\\source\\\\python\\\\my_package\")\n",
    "import roboadvisor.analysis.series.series_test\n",
    "series_test()"
   ]
  },
  {
   "cell_type": "code",
   "execution_count": 1,
   "id": "4be77c4d",
   "metadata": {},
   "outputs": [
    {
     "name": "stdout",
     "output_type": "stream",
     "text": [
      "series\n"
     ]
    }
   ],
   "source": [
    "import sys\n",
    "sys.path.append(\"G:\\\\Lec\\\\source\\\\python\\\\my_package\")\n",
    "from roboadvisor.analysis import *\n",
    "series.series_test()"
   ]
  },
  {
   "cell_type": "code",
   "execution_count": 2,
   "id": "bcd6d5a3",
   "metadata": {},
   "outputs": [
    {
     "name": "stdout",
     "output_type": "stream",
     "text": [
      "series\n"
     ]
    }
   ],
   "source": [
    "import sys\n",
    "sys.path.append(\"G:\\\\Lec\\\\source\\\\python\\\\my_package\")\n",
    "from roboadvisor.analysis.series import *\n",
    "series_test()"
   ]
  },
  {
   "cell_type": "code",
   "execution_count": 1,
   "id": "dd2c7422",
   "metadata": {},
   "outputs": [
    {
     "name": "stdout",
     "output_type": "stream",
     "text": [
      "series\n"
     ]
    }
   ],
   "source": [
    "import sys\n",
    "sys.path.append(\"G:\\\\Lec\\\\source\\\\python\\\\my_package\")\n",
    "import roboadvisor\n",
    "roboadvisor.analysis.series.series_test()"
   ]
  },
  {
   "cell_type": "code",
   "execution_count": 1,
   "id": "310a188e",
   "metadata": {},
   "outputs": [
    {
     "name": "stdout",
     "output_type": "stream",
     "text": [
      "scrap\n",
      "connection\n"
     ]
    }
   ],
   "source": [
    "import sys\n",
    "sys.path.append(\"G:\\\\Lec\\\\source\\\\python\\\\my_package\")\n",
    "from roboadvisor.crawling.scrap import scrap_test\n",
    "scrap_test()"
   ]
  },
  {
   "cell_type": "code",
   "execution_count": 2,
   "id": "56f3b15e",
   "metadata": {},
   "outputs": [
    {
     "ename": "ZeroDivisionError",
     "evalue": "division by zero",
     "output_type": "error",
     "traceback": [
      "\u001b[1;31m---------------------------------------------------------------------------\u001b[0m",
      "\u001b[1;31mZeroDivisionError\u001b[0m                         Traceback (most recent call last)",
      "\u001b[1;32m<ipython-input-2-779f56ac8b21>\u001b[0m in \u001b[0;36m<module>\u001b[1;34m\u001b[0m\n\u001b[0;32m      1\u001b[0m \u001b[1;32mfor\u001b[0m \u001b[0mi\u001b[0m \u001b[1;32min\u001b[0m \u001b[0mrange\u001b[0m\u001b[1;33m(\u001b[0m\u001b[1;36m10\u001b[0m\u001b[1;33m)\u001b[0m\u001b[1;33m:\u001b[0m\u001b[1;33m\u001b[0m\u001b[1;33m\u001b[0m\u001b[0m\n\u001b[1;32m----> 2\u001b[1;33m     \u001b[0mprint\u001b[0m\u001b[1;33m(\u001b[0m\u001b[1;36m10\u001b[0m \u001b[1;33m/\u001b[0m \u001b[0mi\u001b[0m\u001b[1;33m)\u001b[0m\u001b[1;33m\u001b[0m\u001b[1;33m\u001b[0m\u001b[0m\n\u001b[0m",
      "\u001b[1;31mZeroDivisionError\u001b[0m: division by zero"
     ]
    }
   ],
   "source": [
    "for i in range(10):\n",
    "    print(10 / i)"
   ]
  },
  {
   "cell_type": "code",
   "execution_count": 3,
   "id": "95515bc7",
   "metadata": {},
   "outputs": [
    {
     "name": "stdout",
     "output_type": "stream",
     "text": [
      "Not divided by 0\n",
      "10.0\n",
      "5.0\n",
      "3.3333333333333335\n",
      "2.5\n",
      "2.0\n",
      "1.6666666666666667\n",
      "1.4285714285714286\n",
      "1.25\n",
      "1.1111111111111112\n"
     ]
    }
   ],
   "source": [
    "for i in range(10):\n",
    "    try:\n",
    "        print(10 / i)\n",
    "    except:\n",
    "        print(\"Not divided by 0\")"
   ]
  },
  {
   "cell_type": "code",
   "execution_count": 4,
   "id": "a9604635",
   "metadata": {},
   "outputs": [
    {
     "name": "stdout",
     "output_type": "stream",
     "text": [
      "division by zero\n",
      "Not divided by 0\n",
      "10.0\n",
      "5.0\n",
      "3.3333333333333335\n",
      "2.5\n",
      "2.0\n",
      "1.6666666666666667\n",
      "1.4285714285714286\n",
      "1.25\n",
      "1.1111111111111112\n"
     ]
    }
   ],
   "source": [
    "for i in range(10):\n",
    "    try:\n",
    "        print(10 / i)\n",
    "    except ZeroDivisionError as e:\n",
    "        print(e)\n",
    "        print(\"Not divided by 0\")"
   ]
  },
  {
   "cell_type": "code",
   "execution_count": 5,
   "id": "4497e8b6",
   "metadata": {},
   "outputs": [
    {
     "name": "stdout",
     "output_type": "stream",
     "text": [
      "division by zero\n",
      "Not divided by 0\n",
      "10.0\n",
      "5.0\n",
      "3.3333333333333335\n",
      "2.5\n",
      "2.0\n",
      "1.6666666666666667\n",
      "1.4285714285714286\n",
      "1.25\n",
      "1.1111111111111112\n"
     ]
    }
   ],
   "source": [
    "for i in range(10):\n",
    "    try:\n",
    "        result = 10 / i\n",
    "    except ZeroDivisionError as e:\n",
    "        print(e)\n",
    "        print(\"Not divided by 0\")\n",
    "    else:\n",
    "        print(result)"
   ]
  },
  {
   "cell_type": "code",
   "execution_count": 7,
   "id": "86182dcc",
   "metadata": {},
   "outputs": [
    {
     "name": "stdout",
     "output_type": "stream",
     "text": [
      "10\n",
      "5\n",
      "3\n",
      "2\n",
      "2\n",
      "1\n",
      "1\n",
      "1\n",
      "1\n",
      "프로그램 종료!\n"
     ]
    }
   ],
   "source": [
    "try:\n",
    "    for i in range(1, 10):\n",
    "        result = 10 // i\n",
    "        print(result)\n",
    "except ZeroDivisionError as e:\n",
    "    print(e)\n",
    "    print(\"Not divided by 0\")\n",
    "finally:\n",
    "    print('프로그램 종료!')"
   ]
  },
  {
   "cell_type": "code",
   "execution_count": 8,
   "id": "f6278d55",
   "metadata": {},
   "outputs": [
    {
     "name": "stdout",
     "output_type": "stream",
     "text": [
      "정수값 입력23\n",
      "숫자로 변환: 23\n",
      "정수값 입력5\n",
      "숫자로 변환: 5\n",
      "정수값 입력5r\n"
     ]
    },
    {
     "ename": "ValueError",
     "evalue": "숫자가 아닙니다.",
     "output_type": "error",
     "traceback": [
      "\u001b[1;31m---------------------------------------------------------------------------\u001b[0m",
      "\u001b[1;31mValueError\u001b[0m                                Traceback (most recent call last)",
      "\u001b[1;32m<ipython-input-8-7a6120c27175>\u001b[0m in \u001b[0;36m<module>\u001b[1;34m\u001b[0m\n\u001b[0;32m      3\u001b[0m     \u001b[1;32mfor\u001b[0m \u001b[0mdigit\u001b[0m \u001b[1;32min\u001b[0m \u001b[0mvalue\u001b[0m\u001b[1;33m:\u001b[0m\u001b[1;33m\u001b[0m\u001b[1;33m\u001b[0m\u001b[0m\n\u001b[0;32m      4\u001b[0m         \u001b[1;32mif\u001b[0m \u001b[0mdigit\u001b[0m \u001b[1;32mnot\u001b[0m \u001b[1;32min\u001b[0m \u001b[1;34m'0123456789'\u001b[0m\u001b[1;33m:\u001b[0m\u001b[1;33m\u001b[0m\u001b[1;33m\u001b[0m\u001b[0m\n\u001b[1;32m----> 5\u001b[1;33m             \u001b[1;32mraise\u001b[0m \u001b[0mValueError\u001b[0m\u001b[1;33m(\u001b[0m\u001b[1;34m'숫자가 아닙니다.'\u001b[0m\u001b[1;33m)\u001b[0m\u001b[1;33m\u001b[0m\u001b[1;33m\u001b[0m\u001b[0m\n\u001b[0m\u001b[0;32m      6\u001b[0m \u001b[1;33m\u001b[0m\u001b[0m\n\u001b[0;32m      7\u001b[0m     \u001b[0mprint\u001b[0m\u001b[1;33m(\u001b[0m\u001b[1;34m'숫자로 변환:'\u001b[0m\u001b[1;33m,\u001b[0m \u001b[0mint\u001b[0m\u001b[1;33m(\u001b[0m\u001b[0mvalue\u001b[0m\u001b[1;33m)\u001b[0m\u001b[1;33m)\u001b[0m\u001b[1;33m\u001b[0m\u001b[1;33m\u001b[0m\u001b[0m\n",
      "\u001b[1;31mValueError\u001b[0m: 숫자가 아닙니다."
     ]
    }
   ],
   "source": [
    "while True:\n",
    "    value = input('정수값 입력')\n",
    "    for digit in value:\n",
    "        if digit not in '0123456789':\n",
    "            raise ValueError('숫자가 아닙니다.')\n",
    "    \n",
    "    print('숫자로 변환:', int(value))"
   ]
  },
  {
   "cell_type": "code",
   "execution_count": 9,
   "id": "253b01b7",
   "metadata": {},
   "outputs": [],
   "source": [
    "def get_binary_number(decimal_number):\n",
    "    return bin(decimal_number)"
   ]
  },
  {
   "cell_type": "code",
   "execution_count": 10,
   "id": "5cf1f1b0",
   "metadata": {},
   "outputs": [
    {
     "name": "stdout",
     "output_type": "stream",
     "text": [
      "0b1100\n"
     ]
    }
   ],
   "source": [
    "print(get_binary_number(12))"
   ]
  },
  {
   "cell_type": "code",
   "execution_count": 11,
   "id": "02892d7c",
   "metadata": {},
   "outputs": [
    {
     "ename": "TypeError",
     "evalue": "'str' object cannot be interpreted as an integer",
     "output_type": "error",
     "traceback": [
      "\u001b[1;31m---------------------------------------------------------------------------\u001b[0m",
      "\u001b[1;31mTypeError\u001b[0m                                 Traceback (most recent call last)",
      "\u001b[1;32m<ipython-input-11-e01de5b423ad>\u001b[0m in \u001b[0;36m<module>\u001b[1;34m\u001b[0m\n\u001b[1;32m----> 1\u001b[1;33m \u001b[0mprint\u001b[0m\u001b[1;33m(\u001b[0m\u001b[0mget_binary_number\u001b[0m\u001b[1;33m(\u001b[0m\u001b[1;34m\"12\"\u001b[0m\u001b[1;33m)\u001b[0m\u001b[1;33m)\u001b[0m\u001b[1;33m\u001b[0m\u001b[1;33m\u001b[0m\u001b[0m\n\u001b[0m",
      "\u001b[1;32m<ipython-input-9-d7280fb8d308>\u001b[0m in \u001b[0;36mget_binary_number\u001b[1;34m(decimal_number)\u001b[0m\n\u001b[0;32m      1\u001b[0m \u001b[1;32mdef\u001b[0m \u001b[0mget_binary_number\u001b[0m\u001b[1;33m(\u001b[0m\u001b[0mdecimal_number\u001b[0m\u001b[1;33m)\u001b[0m\u001b[1;33m:\u001b[0m\u001b[1;33m\u001b[0m\u001b[1;33m\u001b[0m\u001b[0m\n\u001b[1;32m----> 2\u001b[1;33m     \u001b[1;32mreturn\u001b[0m \u001b[0mbin\u001b[0m\u001b[1;33m(\u001b[0m\u001b[0mdecimal_number\u001b[0m\u001b[1;33m)\u001b[0m\u001b[1;33m\u001b[0m\u001b[1;33m\u001b[0m\u001b[0m\n\u001b[0m",
      "\u001b[1;31mTypeError\u001b[0m: 'str' object cannot be interpreted as an integer"
     ]
    }
   ],
   "source": [
    "print(get_binary_number(\"12\"))"
   ]
  },
  {
   "cell_type": "code",
   "execution_count": 12,
   "id": "cc46c931",
   "metadata": {},
   "outputs": [],
   "source": [
    "def get_binary_number(decimal_number):\n",
    "    assert isinstance(decimal_number, int)\n",
    "    return bin(decimal_number)"
   ]
  },
  {
   "cell_type": "code",
   "execution_count": 13,
   "id": "fb97e758",
   "metadata": {},
   "outputs": [
    {
     "name": "stdout",
     "output_type": "stream",
     "text": [
      "0b1100\n"
     ]
    }
   ],
   "source": [
    "print(get_binary_number(12))"
   ]
  },
  {
   "cell_type": "code",
   "execution_count": 14,
   "id": "3070222b",
   "metadata": {},
   "outputs": [
    {
     "ename": "AssertionError",
     "evalue": "",
     "output_type": "error",
     "traceback": [
      "\u001b[1;31m---------------------------------------------------------------------------\u001b[0m",
      "\u001b[1;31mAssertionError\u001b[0m                            Traceback (most recent call last)",
      "\u001b[1;32m<ipython-input-14-e01de5b423ad>\u001b[0m in \u001b[0;36m<module>\u001b[1;34m\u001b[0m\n\u001b[1;32m----> 1\u001b[1;33m \u001b[0mprint\u001b[0m\u001b[1;33m(\u001b[0m\u001b[0mget_binary_number\u001b[0m\u001b[1;33m(\u001b[0m\u001b[1;34m\"12\"\u001b[0m\u001b[1;33m)\u001b[0m\u001b[1;33m)\u001b[0m\u001b[1;33m\u001b[0m\u001b[1;33m\u001b[0m\u001b[0m\n\u001b[0m",
      "\u001b[1;32m<ipython-input-12-ab88359da700>\u001b[0m in \u001b[0;36mget_binary_number\u001b[1;34m(decimal_number)\u001b[0m\n\u001b[0;32m      1\u001b[0m \u001b[1;32mdef\u001b[0m \u001b[0mget_binary_number\u001b[0m\u001b[1;33m(\u001b[0m\u001b[0mdecimal_number\u001b[0m\u001b[1;33m)\u001b[0m\u001b[1;33m:\u001b[0m\u001b[1;33m\u001b[0m\u001b[1;33m\u001b[0m\u001b[0m\n\u001b[1;32m----> 2\u001b[1;33m     \u001b[1;32massert\u001b[0m \u001b[0misinstance\u001b[0m\u001b[1;33m(\u001b[0m\u001b[0mdecimal_number\u001b[0m\u001b[1;33m,\u001b[0m \u001b[0mint\u001b[0m\u001b[1;33m)\u001b[0m\u001b[1;33m\u001b[0m\u001b[1;33m\u001b[0m\u001b[0m\n\u001b[0m\u001b[0;32m      3\u001b[0m     \u001b[1;32mreturn\u001b[0m \u001b[0mbin\u001b[0m\u001b[1;33m(\u001b[0m\u001b[0mdecimal_number\u001b[0m\u001b[1;33m)\u001b[0m\u001b[1;33m\u001b[0m\u001b[1;33m\u001b[0m\u001b[0m\n",
      "\u001b[1;31mAssertionError\u001b[0m: "
     ]
    }
   ],
   "source": [
    "print(get_binary_number(\"12\"))"
   ]
  },
  {
   "cell_type": "code",
   "execution_count": 15,
   "id": "6ce4d573",
   "metadata": {},
   "outputs": [],
   "source": [
    "def get_binary_number(decimal_number):\n",
    "    assert isinstance(decimal_number, int), \"입력타입 에러\"\n",
    "    return bin(decimal_number)"
   ]
  },
  {
   "cell_type": "code",
   "execution_count": 16,
   "id": "9652ff5a",
   "metadata": {},
   "outputs": [
    {
     "ename": "AssertionError",
     "evalue": "입력타입 에러",
     "output_type": "error",
     "traceback": [
      "\u001b[1;31m---------------------------------------------------------------------------\u001b[0m",
      "\u001b[1;31mAssertionError\u001b[0m                            Traceback (most recent call last)",
      "\u001b[1;32m<ipython-input-16-e01de5b423ad>\u001b[0m in \u001b[0;36m<module>\u001b[1;34m\u001b[0m\n\u001b[1;32m----> 1\u001b[1;33m \u001b[0mprint\u001b[0m\u001b[1;33m(\u001b[0m\u001b[0mget_binary_number\u001b[0m\u001b[1;33m(\u001b[0m\u001b[1;34m\"12\"\u001b[0m\u001b[1;33m)\u001b[0m\u001b[1;33m)\u001b[0m\u001b[1;33m\u001b[0m\u001b[1;33m\u001b[0m\u001b[0m\n\u001b[0m",
      "\u001b[1;32m<ipython-input-15-e75876bef335>\u001b[0m in \u001b[0;36mget_binary_number\u001b[1;34m(decimal_number)\u001b[0m\n\u001b[0;32m      1\u001b[0m \u001b[1;32mdef\u001b[0m \u001b[0mget_binary_number\u001b[0m\u001b[1;33m(\u001b[0m\u001b[0mdecimal_number\u001b[0m\u001b[1;33m)\u001b[0m\u001b[1;33m:\u001b[0m\u001b[1;33m\u001b[0m\u001b[1;33m\u001b[0m\u001b[0m\n\u001b[1;32m----> 2\u001b[1;33m     \u001b[1;32massert\u001b[0m \u001b[0misinstance\u001b[0m\u001b[1;33m(\u001b[0m\u001b[0mdecimal_number\u001b[0m\u001b[1;33m,\u001b[0m \u001b[0mint\u001b[0m\u001b[1;33m)\u001b[0m\u001b[1;33m,\u001b[0m \u001b[1;34m\"입력타입 에러\"\u001b[0m\u001b[1;33m\u001b[0m\u001b[1;33m\u001b[0m\u001b[0m\n\u001b[0m\u001b[0;32m      3\u001b[0m     \u001b[1;32mreturn\u001b[0m \u001b[0mbin\u001b[0m\u001b[1;33m(\u001b[0m\u001b[0mdecimal_number\u001b[0m\u001b[1;33m)\u001b[0m\u001b[1;33m\u001b[0m\u001b[1;33m\u001b[0m\u001b[0m\n",
      "\u001b[1;31mAssertionError\u001b[0m: 입력타입 에러"
     ]
    }
   ],
   "source": [
    "print(get_binary_number(\"12\"))"
   ]
  },
  {
   "cell_type": "code",
   "execution_count": 17,
   "id": "996e479d",
   "metadata": {},
   "outputs": [],
   "source": [
    "def scalar_multiply(c, v):\n",
    "    return [c * i for i in v]"
   ]
  },
  {
   "cell_type": "code",
   "execution_count": 18,
   "id": "68316131",
   "metadata": {},
   "outputs": [
    {
     "name": "stdout",
     "output_type": "stream",
     "text": [
      "[2, 4, 6]\n"
     ]
    }
   ],
   "source": [
    "print(scalar_multiply(2, [1, 2, 3]))"
   ]
  },
  {
   "cell_type": "code",
   "execution_count": 19,
   "id": "4d19ac45",
   "metadata": {},
   "outputs": [],
   "source": [
    "assert scalar_multiply(2, [1, 2, 3]) == [2, 4, 6]"
   ]
  },
  {
   "cell_type": "code",
   "execution_count": 20,
   "id": "e882c233",
   "metadata": {},
   "outputs": [
    {
     "ename": "AssertionError",
     "evalue": "",
     "output_type": "error",
     "traceback": [
      "\u001b[1;31m---------------------------------------------------------------------------\u001b[0m",
      "\u001b[1;31mAssertionError\u001b[0m                            Traceback (most recent call last)",
      "\u001b[1;32m<ipython-input-20-3b0ae53d79e0>\u001b[0m in \u001b[0;36m<module>\u001b[1;34m\u001b[0m\n\u001b[1;32m----> 1\u001b[1;33m \u001b[1;32massert\u001b[0m \u001b[0mscalar_multiply\u001b[0m\u001b[1;33m(\u001b[0m\u001b[1;36m2\u001b[0m\u001b[1;33m,\u001b[0m \u001b[1;33m[\u001b[0m\u001b[1;36m1\u001b[0m\u001b[1;33m,\u001b[0m \u001b[1;36m2\u001b[0m\u001b[1;33m,\u001b[0m \u001b[1;36m3\u001b[0m\u001b[1;33m]\u001b[0m\u001b[1;33m)\u001b[0m \u001b[1;33m==\u001b[0m \u001b[1;33m[\u001b[0m\u001b[1;36m2\u001b[0m\u001b[1;33m,\u001b[0m \u001b[1;36m1\u001b[0m\u001b[1;33m,\u001b[0m \u001b[1;36m6\u001b[0m\u001b[1;33m]\u001b[0m\u001b[1;33m\u001b[0m\u001b[1;33m\u001b[0m\u001b[0m\n\u001b[0m",
      "\u001b[1;31mAssertionError\u001b[0m: "
     ]
    }
   ],
   "source": [
    "assert scalar_multiply(2, [1, 2, 3]) == [2, 1, 6]"
   ]
  },
  {
   "cell_type": "markdown",
   "id": "c6ef0d17",
   "metadata": {},
   "source": [
    "### First-class citizen, First-class function\n",
    "- 프로그래밍 언어가 함수(function)를 first-class citizen 으로 취급, 함수 자체를 일반 값 처럼 취급"
   ]
  },
  {
   "cell_type": "code",
   "execution_count": 21,
   "id": "1b706ee8",
   "metadata": {},
   "outputs": [],
   "source": [
    "def double_func(x):\n",
    "    return x * 2"
   ]
  },
  {
   "cell_type": "code",
   "execution_count": 22,
   "id": "1ed08039",
   "metadata": {},
   "outputs": [
    {
     "name": "stdout",
     "output_type": "stream",
     "text": [
      "6\n"
     ]
    }
   ],
   "source": [
    "print(double_func(3))"
   ]
  },
  {
   "cell_type": "code",
   "execution_count": 23,
   "id": "f211404d",
   "metadata": {},
   "outputs": [],
   "source": [
    "a = double_func"
   ]
  },
  {
   "cell_type": "code",
   "execution_count": 24,
   "id": "6099c39f",
   "metadata": {},
   "outputs": [
    {
     "name": "stdout",
     "output_type": "stream",
     "text": [
      "<function double_func at 0x0000019EFF208E50>\n",
      "<function double_func at 0x0000019EFF208E50>\n"
     ]
    }
   ],
   "source": [
    "print(double_func)\n",
    "print(a)"
   ]
  },
  {
   "cell_type": "code",
   "execution_count": 25,
   "id": "815556eb",
   "metadata": {},
   "outputs": [
    {
     "name": "stdout",
     "output_type": "stream",
     "text": [
      "6\n"
     ]
    }
   ],
   "source": [
    "print(a(3))"
   ]
  },
  {
   "cell_type": "code",
   "execution_count": 26,
   "id": "1edb08ac",
   "metadata": {},
   "outputs": [],
   "source": [
    "def make_double_list(func, args):\n",
    "    result = []\n",
    "    for i in args:\n",
    "        result.append(func(i))\n",
    "        \n",
    "    return result"
   ]
  },
  {
   "cell_type": "code",
   "execution_count": 27,
   "id": "7c98d7e1",
   "metadata": {},
   "outputs": [
    {
     "name": "stdout",
     "output_type": "stream",
     "text": [
      "[2, 4, 6, 8, 10]\n"
     ]
    }
   ],
   "source": [
    "input_list = [1, 2, 3, 4, 5]\n",
    "doubles = make_double_list(double_func, input_list)\n",
    "print(doubles)"
   ]
  },
  {
   "cell_type": "code",
   "execution_count": 28,
   "id": "702ae725",
   "metadata": {},
   "outputs": [],
   "source": [
    "def square(x):\n",
    "    return x * x"
   ]
  },
  {
   "cell_type": "code",
   "execution_count": 29,
   "id": "e437db49",
   "metadata": {},
   "outputs": [],
   "source": [
    "def reflect(x):\n",
    "    return -x"
   ]
  },
  {
   "cell_type": "code",
   "execution_count": 30,
   "id": "cf659280",
   "metadata": {},
   "outputs": [
    {
     "name": "stdout",
     "output_type": "stream",
     "text": [
      "[2, 4, 6, 8, 10]\n",
      "[1, 4, 9, 16, 25]\n",
      "[-1, -2, -3, -4, -5]\n"
     ]
    }
   ],
   "source": [
    "doubles = make_double_list(double_func, input_list)\n",
    "squares = make_double_list(square, input_list)\n",
    "reflects = make_double_list(reflect, input_list)\n",
    "\n",
    "print(doubles)\n",
    "print(squares)\n",
    "print(reflects)"
   ]
  },
  {
   "cell_type": "code",
   "execution_count": 32,
   "id": "6d0f87c2",
   "metadata": {},
   "outputs": [],
   "source": [
    "import time\n",
    "\n",
    "def log_formatter(msg):\n",
    "    \n",
    "    def log_message():\n",
    "        time_str = time.strftime('%c', \\\n",
    "                                 time.localtime(time.time()))\n",
    "        print(time_str, end='')\n",
    "        print('--->', end='')\n",
    "        print(msg)\n",
    "        \n",
    "    return log_message"
   ]
  },
  {
   "cell_type": "code",
   "execution_count": 33,
   "id": "6ca1ea72",
   "metadata": {},
   "outputs": [
    {
     "name": "stdout",
     "output_type": "stream",
     "text": [
      "<function log_formatter.<locals>.log_message at 0x0000019EFF2EB670>\n"
     ]
    }
   ],
   "source": [
    "log_msg = log_formatter('test log')\n",
    "print(log_msg)"
   ]
  },
  {
   "cell_type": "code",
   "execution_count": 34,
   "id": "903a1457",
   "metadata": {},
   "outputs": [
    {
     "name": "stdout",
     "output_type": "stream",
     "text": [
      "Fri Aug 20 15:42:49 2021--->test log\n"
     ]
    }
   ],
   "source": [
    "log_msg()"
   ]
  },
  {
   "cell_type": "markdown",
   "id": "031d40a9",
   "metadata": {},
   "source": [
    "- log_message 는 클로저(closure) 이다  \n",
    "- 클로저는 다른 함수의 지역변수값을 그 함수가 종료된 후에도 기억함"
   ]
  },
  {
   "cell_type": "code",
   "execution_count": 35,
   "id": "fe3063d4",
   "metadata": {},
   "outputs": [],
   "source": [
    "del log_formatter"
   ]
  },
  {
   "cell_type": "code",
   "execution_count": 36,
   "id": "36d6c6d9",
   "metadata": {},
   "outputs": [
    {
     "name": "stdout",
     "output_type": "stream",
     "text": [
      "log_formatter 함수는 사라졌다\n"
     ]
    }
   ],
   "source": [
    "try:\n",
    "    print(log_formatter)\n",
    "except NameError:\n",
    "    print('log_formatter 함수는 사라졌다')"
   ]
  },
  {
   "cell_type": "code",
   "execution_count": 37,
   "id": "0b5c97ef",
   "metadata": {},
   "outputs": [
    {
     "name": "stdout",
     "output_type": "stream",
     "text": [
      "Fri Aug 20 16:05:38 2021--->test log\n"
     ]
    }
   ],
   "source": [
    "log_msg()"
   ]
  },
  {
   "cell_type": "markdown",
   "id": "dce49de4",
   "metadata": {},
   "source": [
    "## Closure\n",
    "- first class function을 지원하는 언어의 네임 바인딩 기술  \n",
    "- 어떤 함수를 함수 자신이 가지고 있는 환경과 함께 저장한 레코드  \n",
    "- 함수가 가진 프리변수(free variable)를 클로저가 만들어지는 당시의 값과 레퍼런스에 매핑하는 역할  \n",
    "- 자신의 영역 밖에서 호출된 함수의 변수값과 레퍼런스를 복사하고 저장  \n",
    "\n",
    "** free variable  \n",
    "코드블럭 안에서 사용은 되지만 그 코드블럭안에서 정의되지 않은 변수"
   ]
  },
  {
   "cell_type": "code",
   "execution_count": 40,
   "id": "1f2cc3a0",
   "metadata": {},
   "outputs": [],
   "source": [
    "def outer_func():\n",
    "    msg = 'Good Morning!'\n",
    "    \n",
    "    def inner_func():\n",
    "        print(msg)\n",
    "        \n",
    "    return inner_func()"
   ]
  },
  {
   "cell_type": "code",
   "execution_count": 41,
   "id": "ac826793",
   "metadata": {},
   "outputs": [
    {
     "name": "stdout",
     "output_type": "stream",
     "text": [
      "Good Morning!\n"
     ]
    }
   ],
   "source": [
    "outer_func()"
   ]
  },
  {
   "cell_type": "code",
   "execution_count": 42,
   "id": "8196cc96",
   "metadata": {},
   "outputs": [],
   "source": [
    "def outer_func():\n",
    "    msg = 'Good Morning!'\n",
    "    \n",
    "    def inner_func():\n",
    "        print(msg)\n",
    "        \n",
    "    return inner_func"
   ]
  },
  {
   "cell_type": "code",
   "execution_count": 43,
   "id": "30658180",
   "metadata": {},
   "outputs": [
    {
     "name": "stdout",
     "output_type": "stream",
     "text": [
      "<function outer_func.<locals>.inner_func at 0x0000019EFF2EB3A0>\n",
      "Good Morning!\n"
     ]
    }
   ],
   "source": [
    "func = outer_func()\n",
    "print(func)\n",
    "func()"
   ]
  },
  {
   "cell_type": "code",
   "execution_count": 44,
   "id": "d1e69f97",
   "metadata": {},
   "outputs": [
    {
     "name": "stdout",
     "output_type": "stream",
     "text": [
      "['__annotations__', '__call__', '__class__', '__closure__', '__code__', '__defaults__', '__delattr__', '__dict__', '__dir__', '__doc__', '__eq__', '__format__', '__ge__', '__get__', '__getattribute__', '__globals__', '__gt__', '__hash__', '__init__', '__init_subclass__', '__kwdefaults__', '__le__', '__lt__', '__module__', '__name__', '__ne__', '__new__', '__qualname__', '__reduce__', '__reduce_ex__', '__repr__', '__setattr__', '__sizeof__', '__str__', '__subclasshook__']\n"
     ]
    }
   ],
   "source": [
    "print(dir(func))"
   ]
  },
  {
   "cell_type": "code",
   "execution_count": 45,
   "id": "fce247c5",
   "metadata": {},
   "outputs": [
    {
     "name": "stdout",
     "output_type": "stream",
     "text": [
      "<class 'tuple'>\n"
     ]
    }
   ],
   "source": [
    "print(type(func.__closure__))"
   ]
  },
  {
   "cell_type": "code",
   "execution_count": 46,
   "id": "05c71243",
   "metadata": {},
   "outputs": [
    {
     "name": "stdout",
     "output_type": "stream",
     "text": [
      "(<cell at 0x0000019EFF2F2070: str object at 0x0000019EFF2F7670>,)\n"
     ]
    }
   ],
   "source": [
    "print(func.__closure__)"
   ]
  },
  {
   "cell_type": "code",
   "execution_count": 47,
   "id": "83a5b390",
   "metadata": {},
   "outputs": [
    {
     "name": "stdout",
     "output_type": "stream",
     "text": [
      "<cell at 0x0000019EFF2F2070: str object at 0x0000019EFF2F7670>\n"
     ]
    }
   ],
   "source": [
    "print(func.__closure__[0])"
   ]
  },
  {
   "cell_type": "code",
   "execution_count": 48,
   "id": "915ffb5b",
   "metadata": {},
   "outputs": [
    {
     "name": "stdout",
     "output_type": "stream",
     "text": [
      "['__class__', '__delattr__', '__dir__', '__doc__', '__eq__', '__format__', '__ge__', '__getattribute__', '__gt__', '__hash__', '__init__', '__init_subclass__', '__le__', '__lt__', '__ne__', '__new__', '__reduce__', '__reduce_ex__', '__repr__', '__setattr__', '__sizeof__', '__str__', '__subclasshook__', 'cell_contents']\n"
     ]
    }
   ],
   "source": [
    "print(dir(func.__closure__[0]))"
   ]
  },
  {
   "cell_type": "code",
   "execution_count": 49,
   "id": "4a80536c",
   "metadata": {},
   "outputs": [
    {
     "name": "stdout",
     "output_type": "stream",
     "text": [
      "Good Morning!\n"
     ]
    }
   ],
   "source": [
    "print(func.__closure__[0].cell_contents)"
   ]
  },
  {
   "cell_type": "code",
   "execution_count": 50,
   "id": "1f81a660",
   "metadata": {},
   "outputs": [],
   "source": [
    "class TestClass:\n",
    "    class_var = 100\n",
    "    def __init__(self):\n",
    "        self.instance_var = 10"
   ]
  },
  {
   "cell_type": "code",
   "execution_count": 51,
   "id": "790862ff",
   "metadata": {},
   "outputs": [
    {
     "name": "stdout",
     "output_type": "stream",
     "text": [
      "100\n"
     ]
    }
   ],
   "source": [
    "print(TestClass.class_var)"
   ]
  },
  {
   "cell_type": "code",
   "execution_count": null,
   "id": "540f87f6",
   "metadata": {},
   "outputs": [],
   "source": []
  }
 ],
 "metadata": {
  "kernelspec": {
   "display_name": "Python 3",
   "language": "python",
   "name": "python3"
  },
  "language_info": {
   "codemirror_mode": {
    "name": "ipython",
    "version": 3
   },
   "file_extension": ".py",
   "mimetype": "text/x-python",
   "name": "python",
   "nbconvert_exporter": "python",
   "pygments_lexer": "ipython3",
   "version": "3.8.8"
  }
 },
 "nbformat": 4,
 "nbformat_minor": 5
}
